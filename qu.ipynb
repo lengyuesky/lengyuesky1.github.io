{
  "nbformat": 4,
  "nbformat_minor": 0,
  "metadata": {
    "colab": {
      "provenance": []
    },
    "kernelspec": {
      "name": "python3",
      "display_name": "Python 3"
    },
    "language_info": {
      "name": "python"
    }
  },
  "cells": [
    {
      "cell_type": "code",
      "execution_count": null,
      "metadata": {
        "id": "kJ-pxQxwDj9G"
      },
      "outputs": [],
      "source": [
        "!nvidia-smi\n",
        "!nvcc -V"
      ]
    },
    {
      "cell_type": "code",
      "source": [
        "!wget https://dl.qubic.li/downloads/qli-Client-1.8.3-Linux-x64.tar.gz\n",
        "!tar -zxvf qli-Client-1.8.3-Linux-x64.tar.gz\n",
        "!rm appsettings.json\n",
        "!wget https://raw.githubusercontent.com/lengyuesky/lengyuesky1.github.io/main/appsettings.json appsettings.json\n",
        "!cat appsettings.json"
      ],
      "metadata": {
        "id": "FkFv45VOErdD"
      },
      "execution_count": null,
      "outputs": []
    },
    {
      "cell_type": "code",
      "source": [
        "!./qli-Client"
      ],
      "metadata": {
        "id": "oh6H9VAVEtSw"
      },
      "execution_count": null,
      "outputs": []
    }
  ]
}